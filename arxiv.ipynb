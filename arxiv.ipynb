{
 "cells": [
  {
   "cell_type": "code",
   "execution_count": null,
   "metadata": {},
   "outputs": [
    {
     "name": "stderr",
     "output_type": "stream",
     "text": [
      "/var/folders/xn/wsjhh1ls5s59_ztkdb434w0h0000gn/T/ipykernel_50260/3908994705.py:57: DeprecationWarning: The 'Search.results' method is deprecated, use 'Client.results' instead\n",
      "  for result in search.results():\n"
     ]
    },
    {
     "name": "stdout",
     "output_type": "stream",
     "text": [
      "\n",
      "✅ BibTeX export complete! 40 records saved in the arxiv_bibtex folder.\n"
     ]
    }
   ],
   "source": [
    "import arxiv\n",
    "import os\n",
    "\n",
    "title_query = (\n",
    "    '\"retrieval-augmented generation\" OR '\n",
    "    '\"RAG system\" OR '\n",
    "    '\"retrieval-augmented language model\" OR '\n",
    "    '\"RAG-based generation\"'\n",
    ")\n",
    "all_fields_query = (\n",
    "    'privacy OR \"personal data\" OR PII OR fairness OR '\n",
    "    '\"bias mitigation\" OR debiasing OR transparency OR '\n",
    "    '\"source attribution\" OR \"citation clarity\" OR \"ethical AI\" OR \"responsible AI\"'\n",
    ")\n",
    "cat_query = 'cat:cs.*'\n",
    "final_query = f'(ti:{title_query}) AND ({all_fields_query}) AND ({cat_query})'\n",
    "\n",
    "search = arxiv.Search(\n",
    "    query=final_query,\n",
    "    max_results=200,\n",
    "    sort_by=arxiv.SortCriterion.SubmittedDate\n",
    ")\n",
    "\n",
    "os.makedirs('arxiv_bibtex', exist_ok=True)\n",
    "count = 0\n",
    "\n",
    "def to_bibtex(result):\n",
    "    authors = \" and \".join([a.name for a in result.authors])\n",
    "    year = str(result.published.year)\n",
    "    title = result.title.replace('\\n', ' ').replace('{', '').replace('}', '')\n",
    "    arxiv_id = result.entry_id.split('/')[-1]\n",
    "    url = result.entry_id\n",
    "    category = result.primary_category if hasattr(result, \"primary_category\") else \"\"\n",
    "    abstract = result.summary.replace('\\n', ' ').replace('{', '').replace('}', '')\n",
    "    pdf_url = result.pdf_url if hasattr(result, \"pdf_url\") else \"\"\n",
    "    # DOI 있을 경우 추가\n",
    "    doi = \"\"\n",
    "    if hasattr(result, \"doi\") and result.doi:\n",
    "        doi = f\"  doi={{ {result.doi} }},\\n\"\n",
    "    bib = (\n",
    "        f\"@article{{{arxiv_id},\\n\"\n",
    "        f\"  title={{ {title} }},\\n\"\n",
    "        f\"  author={{ {authors} }},\\n\"\n",
    "        f\"  year={{ {year} }},\\n\"\n",
    "        f\"  journal={{ arXiv preprint arXiv:{arxiv_id} }},\\n\"\n",
    "        f\"  url={{ {url} }},\\n\"\n",
    "        f\"  eprint={{ {arxiv_id} }},\\n\"\n",
    "        f\"  archivePrefix={{arXiv}},\\n\"\n",
    "        f\"  primaryClass={{ {category} }},\\n\"\n",
    "        f\"  pdf={{ {pdf_url} }},\\n\"\n",
    "        f\"{doi}\"\n",
    "        f\"  abstract={{ {abstract} }}\\n\"\n",
    "        f\"}}\\n\"\n",
    "    )\n",
    "    return bib\n",
    "\n",
    "for result in search.results():\n",
    "    year = int(str(result.published)[:4])\n",
    "    if year >= 2018:\n",
    "        bibtex_str = to_bibtex(result)\n",
    "        arxiv_id = result.entry_id.split('/')[-1]\n",
    "        bib_path = os.path.join('arxiv_bibtex', f\"{arxiv_id}.bib\")\n",
    "        with open(bib_path, \"w\", encoding=\"utf-8\") as f:\n",
    "            f.write(bibtex_str)\n",
    "        count += 1\n",
    "\n",
    "print(f\"\\n✅ BibTeX export complete! {count} records saved in the arxiv_bibtex folder.\")\n"
   ]
  }
 ],
 "metadata": {
  "kernelspec": {
   "display_name": "Python (work)",
   "language": "python",
   "name": "work"
  },
  "language_info": {
   "codemirror_mode": {
    "name": "ipython",
    "version": 3
   },
   "file_extension": ".py",
   "mimetype": "text/x-python",
   "name": "python",
   "nbconvert_exporter": "python",
   "pygments_lexer": "ipython3",
   "version": "3.11.12"
  }
 },
 "nbformat": 4,
 "nbformat_minor": 2
}
